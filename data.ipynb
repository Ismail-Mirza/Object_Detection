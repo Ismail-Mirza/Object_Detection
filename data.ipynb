{
 "cells": [
  {
   "cell_type": "code",
   "execution_count": 2,
   "metadata": {},
   "outputs": [
    {
     "name": "stdout",
     "output_type": "stream",
     "text": [
      "Note: you may need to restart the kernel to use updated packages.\n"
     ]
    },
    {
     "name": "stderr",
     "output_type": "stream",
     "text": [
      "ERROR: Could not find a version that satisfies the requirement python_opencv (from versions: none)\n",
      "ERROR: No matching distribution found for python_opencv\n",
      "WARNING: You are using pip version 21.3.1; however, version 22.3.1 is available.\n",
      "You should consider upgrading via the 'c:\\Users\\HP\\Envs\\data\\Scripts\\python.exe -m pip install --upgrade pip' command.\n"
     ]
    }
   ],
   "source": [
    "pip install python_opencv"
   ]
  },
  {
   "cell_type": "code",
   "execution_count": 1,
   "metadata": {},
   "outputs": [],
   "source": [
    "import cv2 #opencv\n",
    "import os\n",
    "import time\n",
    "import uuid"
   ]
  },
  {
   "cell_type": "code",
   "execution_count": 2,
   "metadata": {},
   "outputs": [],
   "source": [
    "IMAGES_PATH = \"Tensorflow/workspace/images/collectedimages\""
   ]
  },
  {
   "cell_type": "code",
   "execution_count": 3,
   "metadata": {},
   "outputs": [],
   "source": [
    "labels = [\"hello\",\"thanks\",\"yes\",\"no\",\"iloveyou\"]\n",
    "number_imgs=15"
   ]
  },
  {
   "cell_type": "code",
   "execution_count": 4,
   "metadata": {},
   "outputs": [
    {
     "name": "stdout",
     "output_type": "stream",
     "text": [
      "Collecting Images for hello\n",
      "Collecting Images for thanks\n",
      "Collecting Images for yes\n",
      "Collecting Images for no\n",
      "Collecting Images for iloveyou\n"
     ]
    }
   ],
   "source": [
    "for label in labels:\n",
    "    os.mkdir(\"Tensorflow/workspace/images/collectedimages/\"+label)\n",
    "    \n",
    "    cap = cv2.VideoCapture(0)\n",
    "    print(\"Collecting Images for {}\".format(label))\n",
    "    time.sleep(5)\n",
    "    for imgnum in range(number_imgs):\n",
    "        \n",
    "        ret,frame = cap.read()\n",
    "        imagename = os.path.join(IMAGES_PATH,label,label+\"_{}.jpg\".format(str(uuid.uuid1())))\n",
    "        cv2.imwrite(imagename,frame)\n",
    "        cv2.imshow(\"frame\",frame)\n",
    "        time.sleep(2)\n",
    "        if cv2.waitKey(1) & 0xff== ord(\"q\"):\n",
    "            break\n",
    "    cap.release()\n",
    "    "
   ]
  },
  {
   "cell_type": "code",
   "execution_count": null,
   "metadata": {},
   "outputs": [],
   "source": []
  }
 ],
 "metadata": {
  "kernelspec": {
   "display_name": "Python 3 (ipykernel)",
   "language": "python",
   "name": "python3"
  },
  "language_info": {
   "codemirror_mode": {
    "name": "ipython",
    "version": 3
   },
   "file_extension": ".py",
   "mimetype": "text/x-python",
   "name": "python",
   "nbconvert_exporter": "python",
   "pygments_lexer": "ipython3",
   "version": "3.9.4"
  },
  "vscode": {
   "interpreter": {
    "hash": "50597d9b3f111913cca53e8ead2f886f959f7c713ac91d105587437592498959"
   }
  }
 },
 "nbformat": 4,
 "nbformat_minor": 2
}
